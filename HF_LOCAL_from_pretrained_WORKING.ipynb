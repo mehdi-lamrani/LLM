{
  "metadata": {
    "kernelspec": {
      "language": "python",
      "display_name": "Python 3",
      "name": "python3"
    },
    "language_info": {
      "name": "python",
      "version": "3.10.12",
      "mimetype": "text/x-python",
      "codemirror_mode": {
        "name": "ipython",
        "version": 3
      },
      "pygments_lexer": "ipython3",
      "nbconvert_exporter": "python",
      "file_extension": ".py"
    },
    "kaggle": {
      "accelerator": "nvidiaTeslaT4",
      "dataSources": [
        {
          "sourceId": 5112,
          "sourceType": "modelInstanceVersion",
          "isSourceIdPinned": true,
          "modelInstanceId": 3900
        }
      ],
      "dockerImageVersionId": 30579,
      "isInternetEnabled": true,
      "language": "python",
      "sourceType": "notebook",
      "isGpuEnabled": true
    },
    "colab": {
      "provenance": []
    },
    "widgets": {
      "application/vnd.jupyter.widget-state+json": {
        "f26a4c93e3ca4342bc9400db8549a434": {
          "model_module": "@jupyter-widgets/controls",
          "model_name": "HBoxModel",
          "model_module_version": "1.5.0",
          "state": {
            "_dom_classes": [],
            "_model_module": "@jupyter-widgets/controls",
            "_model_module_version": "1.5.0",
            "_model_name": "HBoxModel",
            "_view_count": null,
            "_view_module": "@jupyter-widgets/controls",
            "_view_module_version": "1.5.0",
            "_view_name": "HBoxView",
            "box_style": "",
            "children": [
              "IPY_MODEL_de9b4d3f67e64d4798ae858f03bb59eb",
              "IPY_MODEL_a7fc4bf07d13454dbc6cb6def498c6fd",
              "IPY_MODEL_a563be05436e4f3d9b5ed35f2eeb7613"
            ],
            "layout": "IPY_MODEL_562cd4463f4d49759f3d76564207ae60"
          }
        },
        "de9b4d3f67e64d4798ae858f03bb59eb": {
          "model_module": "@jupyter-widgets/controls",
          "model_name": "HTMLModel",
          "model_module_version": "1.5.0",
          "state": {
            "_dom_classes": [],
            "_model_module": "@jupyter-widgets/controls",
            "_model_module_version": "1.5.0",
            "_model_name": "HTMLModel",
            "_view_count": null,
            "_view_module": "@jupyter-widgets/controls",
            "_view_module_version": "1.5.0",
            "_view_name": "HTMLView",
            "description": "",
            "description_tooltip": null,
            "layout": "IPY_MODEL_853e7ae219e946a0acf5d81e5a095f73",
            "placeholder": "​",
            "style": "IPY_MODEL_12d9fd8f5d4e4f24bef308c8d2853b47",
            "value": "model.safetensors: 100%"
          }
        },
        "a7fc4bf07d13454dbc6cb6def498c6fd": {
          "model_module": "@jupyter-widgets/controls",
          "model_name": "FloatProgressModel",
          "model_module_version": "1.5.0",
          "state": {
            "_dom_classes": [],
            "_model_module": "@jupyter-widgets/controls",
            "_model_module_version": "1.5.0",
            "_model_name": "FloatProgressModel",
            "_view_count": null,
            "_view_module": "@jupyter-widgets/controls",
            "_view_module_version": "1.5.0",
            "_view_name": "ProgressView",
            "bar_style": "success",
            "description": "",
            "description_tooltip": null,
            "layout": "IPY_MODEL_b572e35ac27f4cb88984a253b663bafd",
            "max": 2200119864,
            "min": 0,
            "orientation": "horizontal",
            "style": "IPY_MODEL_23198f0b6d934b0d8d7cc558591ec756",
            "value": 2200119864
          }
        },
        "a563be05436e4f3d9b5ed35f2eeb7613": {
          "model_module": "@jupyter-widgets/controls",
          "model_name": "HTMLModel",
          "model_module_version": "1.5.0",
          "state": {
            "_dom_classes": [],
            "_model_module": "@jupyter-widgets/controls",
            "_model_module_version": "1.5.0",
            "_model_name": "HTMLModel",
            "_view_count": null,
            "_view_module": "@jupyter-widgets/controls",
            "_view_module_version": "1.5.0",
            "_view_name": "HTMLView",
            "description": "",
            "description_tooltip": null,
            "layout": "IPY_MODEL_cc58c0d3a770406b8735c58c7d5fcf37",
            "placeholder": "​",
            "style": "IPY_MODEL_1418dd36437f497eb7815fd0951f5ed4",
            "value": " 2.20G/2.20G [00:25&lt;00:00, 46.0MB/s]"
          }
        },
        "562cd4463f4d49759f3d76564207ae60": {
          "model_module": "@jupyter-widgets/base",
          "model_name": "LayoutModel",
          "model_module_version": "1.2.0",
          "state": {
            "_model_module": "@jupyter-widgets/base",
            "_model_module_version": "1.2.0",
            "_model_name": "LayoutModel",
            "_view_count": null,
            "_view_module": "@jupyter-widgets/base",
            "_view_module_version": "1.2.0",
            "_view_name": "LayoutView",
            "align_content": null,
            "align_items": null,
            "align_self": null,
            "border": null,
            "bottom": null,
            "display": null,
            "flex": null,
            "flex_flow": null,
            "grid_area": null,
            "grid_auto_columns": null,
            "grid_auto_flow": null,
            "grid_auto_rows": null,
            "grid_column": null,
            "grid_gap": null,
            "grid_row": null,
            "grid_template_areas": null,
            "grid_template_columns": null,
            "grid_template_rows": null,
            "height": null,
            "justify_content": null,
            "justify_items": null,
            "left": null,
            "margin": null,
            "max_height": null,
            "max_width": null,
            "min_height": null,
            "min_width": null,
            "object_fit": null,
            "object_position": null,
            "order": null,
            "overflow": null,
            "overflow_x": null,
            "overflow_y": null,
            "padding": null,
            "right": null,
            "top": null,
            "visibility": null,
            "width": null
          }
        },
        "853e7ae219e946a0acf5d81e5a095f73": {
          "model_module": "@jupyter-widgets/base",
          "model_name": "LayoutModel",
          "model_module_version": "1.2.0",
          "state": {
            "_model_module": "@jupyter-widgets/base",
            "_model_module_version": "1.2.0",
            "_model_name": "LayoutModel",
            "_view_count": null,
            "_view_module": "@jupyter-widgets/base",
            "_view_module_version": "1.2.0",
            "_view_name": "LayoutView",
            "align_content": null,
            "align_items": null,
            "align_self": null,
            "border": null,
            "bottom": null,
            "display": null,
            "flex": null,
            "flex_flow": null,
            "grid_area": null,
            "grid_auto_columns": null,
            "grid_auto_flow": null,
            "grid_auto_rows": null,
            "grid_column": null,
            "grid_gap": null,
            "grid_row": null,
            "grid_template_areas": null,
            "grid_template_columns": null,
            "grid_template_rows": null,
            "height": null,
            "justify_content": null,
            "justify_items": null,
            "left": null,
            "margin": null,
            "max_height": null,
            "max_width": null,
            "min_height": null,
            "min_width": null,
            "object_fit": null,
            "object_position": null,
            "order": null,
            "overflow": null,
            "overflow_x": null,
            "overflow_y": null,
            "padding": null,
            "right": null,
            "top": null,
            "visibility": null,
            "width": null
          }
        },
        "12d9fd8f5d4e4f24bef308c8d2853b47": {
          "model_module": "@jupyter-widgets/controls",
          "model_name": "DescriptionStyleModel",
          "model_module_version": "1.5.0",
          "state": {
            "_model_module": "@jupyter-widgets/controls",
            "_model_module_version": "1.5.0",
            "_model_name": "DescriptionStyleModel",
            "_view_count": null,
            "_view_module": "@jupyter-widgets/base",
            "_view_module_version": "1.2.0",
            "_view_name": "StyleView",
            "description_width": ""
          }
        },
        "b572e35ac27f4cb88984a253b663bafd": {
          "model_module": "@jupyter-widgets/base",
          "model_name": "LayoutModel",
          "model_module_version": "1.2.0",
          "state": {
            "_model_module": "@jupyter-widgets/base",
            "_model_module_version": "1.2.0",
            "_model_name": "LayoutModel",
            "_view_count": null,
            "_view_module": "@jupyter-widgets/base",
            "_view_module_version": "1.2.0",
            "_view_name": "LayoutView",
            "align_content": null,
            "align_items": null,
            "align_self": null,
            "border": null,
            "bottom": null,
            "display": null,
            "flex": null,
            "flex_flow": null,
            "grid_area": null,
            "grid_auto_columns": null,
            "grid_auto_flow": null,
            "grid_auto_rows": null,
            "grid_column": null,
            "grid_gap": null,
            "grid_row": null,
            "grid_template_areas": null,
            "grid_template_columns": null,
            "grid_template_rows": null,
            "height": null,
            "justify_content": null,
            "justify_items": null,
            "left": null,
            "margin": null,
            "max_height": null,
            "max_width": null,
            "min_height": null,
            "min_width": null,
            "object_fit": null,
            "object_position": null,
            "order": null,
            "overflow": null,
            "overflow_x": null,
            "overflow_y": null,
            "padding": null,
            "right": null,
            "top": null,
            "visibility": null,
            "width": null
          }
        },
        "23198f0b6d934b0d8d7cc558591ec756": {
          "model_module": "@jupyter-widgets/controls",
          "model_name": "ProgressStyleModel",
          "model_module_version": "1.5.0",
          "state": {
            "_model_module": "@jupyter-widgets/controls",
            "_model_module_version": "1.5.0",
            "_model_name": "ProgressStyleModel",
            "_view_count": null,
            "_view_module": "@jupyter-widgets/base",
            "_view_module_version": "1.2.0",
            "_view_name": "StyleView",
            "bar_color": null,
            "description_width": ""
          }
        },
        "cc58c0d3a770406b8735c58c7d5fcf37": {
          "model_module": "@jupyter-widgets/base",
          "model_name": "LayoutModel",
          "model_module_version": "1.2.0",
          "state": {
            "_model_module": "@jupyter-widgets/base",
            "_model_module_version": "1.2.0",
            "_model_name": "LayoutModel",
            "_view_count": null,
            "_view_module": "@jupyter-widgets/base",
            "_view_module_version": "1.2.0",
            "_view_name": "LayoutView",
            "align_content": null,
            "align_items": null,
            "align_self": null,
            "border": null,
            "bottom": null,
            "display": null,
            "flex": null,
            "flex_flow": null,
            "grid_area": null,
            "grid_auto_columns": null,
            "grid_auto_flow": null,
            "grid_auto_rows": null,
            "grid_column": null,
            "grid_gap": null,
            "grid_row": null,
            "grid_template_areas": null,
            "grid_template_columns": null,
            "grid_template_rows": null,
            "height": null,
            "justify_content": null,
            "justify_items": null,
            "left": null,
            "margin": null,
            "max_height": null,
            "max_width": null,
            "min_height": null,
            "min_width": null,
            "object_fit": null,
            "object_position": null,
            "order": null,
            "overflow": null,
            "overflow_x": null,
            "overflow_y": null,
            "padding": null,
            "right": null,
            "top": null,
            "visibility": null,
            "width": null
          }
        },
        "1418dd36437f497eb7815fd0951f5ed4": {
          "model_module": "@jupyter-widgets/controls",
          "model_name": "DescriptionStyleModel",
          "model_module_version": "1.5.0",
          "state": {
            "_model_module": "@jupyter-widgets/controls",
            "_model_module_version": "1.5.0",
            "_model_name": "DescriptionStyleModel",
            "_view_count": null,
            "_view_module": "@jupyter-widgets/base",
            "_view_module_version": "1.2.0",
            "_view_name": "StyleView",
            "description_width": ""
          }
        },
        "238b440b0b21456ba1d1fe828f79cd20": {
          "model_module": "@jupyter-widgets/controls",
          "model_name": "HBoxModel",
          "model_module_version": "1.5.0",
          "state": {
            "_dom_classes": [],
            "_model_module": "@jupyter-widgets/controls",
            "_model_module_version": "1.5.0",
            "_model_name": "HBoxModel",
            "_view_count": null,
            "_view_module": "@jupyter-widgets/controls",
            "_view_module_version": "1.5.0",
            "_view_name": "HBoxView",
            "box_style": "",
            "children": [
              "IPY_MODEL_fdcf24f9685a4ad0a78b701db3b128df",
              "IPY_MODEL_76b7f9e3b37f48089f2dcf50086fffe4",
              "IPY_MODEL_21436cb1172c43b7a6c52f8daddee56b"
            ],
            "layout": "IPY_MODEL_88153532c67448a689eb0128c61a94c0"
          }
        },
        "fdcf24f9685a4ad0a78b701db3b128df": {
          "model_module": "@jupyter-widgets/controls",
          "model_name": "HTMLModel",
          "model_module_version": "1.5.0",
          "state": {
            "_dom_classes": [],
            "_model_module": "@jupyter-widgets/controls",
            "_model_module_version": "1.5.0",
            "_model_name": "HTMLModel",
            "_view_count": null,
            "_view_module": "@jupyter-widgets/controls",
            "_view_module_version": "1.5.0",
            "_view_name": "HTMLView",
            "description": "",
            "description_tooltip": null,
            "layout": "IPY_MODEL_0a0944350c2c45eb882b2ef8244d0c1f",
            "placeholder": "​",
            "style": "IPY_MODEL_b3553145cc2c4f66946317cfd609e4a8",
            "value": "generation_config.json: 100%"
          }
        },
        "76b7f9e3b37f48089f2dcf50086fffe4": {
          "model_module": "@jupyter-widgets/controls",
          "model_name": "FloatProgressModel",
          "model_module_version": "1.5.0",
          "state": {
            "_dom_classes": [],
            "_model_module": "@jupyter-widgets/controls",
            "_model_module_version": "1.5.0",
            "_model_name": "FloatProgressModel",
            "_view_count": null,
            "_view_module": "@jupyter-widgets/controls",
            "_view_module_version": "1.5.0",
            "_view_name": "ProgressView",
            "bar_style": "success",
            "description": "",
            "description_tooltip": null,
            "layout": "IPY_MODEL_2f163446e0604e72a9613550f53ba731",
            "max": 124,
            "min": 0,
            "orientation": "horizontal",
            "style": "IPY_MODEL_e2ab231c0ee44b8eb54079a5177987c9",
            "value": 124
          }
        },
        "21436cb1172c43b7a6c52f8daddee56b": {
          "model_module": "@jupyter-widgets/controls",
          "model_name": "HTMLModel",
          "model_module_version": "1.5.0",
          "state": {
            "_dom_classes": [],
            "_model_module": "@jupyter-widgets/controls",
            "_model_module_version": "1.5.0",
            "_model_name": "HTMLModel",
            "_view_count": null,
            "_view_module": "@jupyter-widgets/controls",
            "_view_module_version": "1.5.0",
            "_view_name": "HTMLView",
            "description": "",
            "description_tooltip": null,
            "layout": "IPY_MODEL_9e880f24df614c2092b8014fea86ae5a",
            "placeholder": "​",
            "style": "IPY_MODEL_3184dba74e724e2f8852bd35e19dc106",
            "value": " 124/124 [00:00&lt;00:00, 3.70kB/s]"
          }
        },
        "88153532c67448a689eb0128c61a94c0": {
          "model_module": "@jupyter-widgets/base",
          "model_name": "LayoutModel",
          "model_module_version": "1.2.0",
          "state": {
            "_model_module": "@jupyter-widgets/base",
            "_model_module_version": "1.2.0",
            "_model_name": "LayoutModel",
            "_view_count": null,
            "_view_module": "@jupyter-widgets/base",
            "_view_module_version": "1.2.0",
            "_view_name": "LayoutView",
            "align_content": null,
            "align_items": null,
            "align_self": null,
            "border": null,
            "bottom": null,
            "display": null,
            "flex": null,
            "flex_flow": null,
            "grid_area": null,
            "grid_auto_columns": null,
            "grid_auto_flow": null,
            "grid_auto_rows": null,
            "grid_column": null,
            "grid_gap": null,
            "grid_row": null,
            "grid_template_areas": null,
            "grid_template_columns": null,
            "grid_template_rows": null,
            "height": null,
            "justify_content": null,
            "justify_items": null,
            "left": null,
            "margin": null,
            "max_height": null,
            "max_width": null,
            "min_height": null,
            "min_width": null,
            "object_fit": null,
            "object_position": null,
            "order": null,
            "overflow": null,
            "overflow_x": null,
            "overflow_y": null,
            "padding": null,
            "right": null,
            "top": null,
            "visibility": null,
            "width": null
          }
        },
        "0a0944350c2c45eb882b2ef8244d0c1f": {
          "model_module": "@jupyter-widgets/base",
          "model_name": "LayoutModel",
          "model_module_version": "1.2.0",
          "state": {
            "_model_module": "@jupyter-widgets/base",
            "_model_module_version": "1.2.0",
            "_model_name": "LayoutModel",
            "_view_count": null,
            "_view_module": "@jupyter-widgets/base",
            "_view_module_version": "1.2.0",
            "_view_name": "LayoutView",
            "align_content": null,
            "align_items": null,
            "align_self": null,
            "border": null,
            "bottom": null,
            "display": null,
            "flex": null,
            "flex_flow": null,
            "grid_area": null,
            "grid_auto_columns": null,
            "grid_auto_flow": null,
            "grid_auto_rows": null,
            "grid_column": null,
            "grid_gap": null,
            "grid_row": null,
            "grid_template_areas": null,
            "grid_template_columns": null,
            "grid_template_rows": null,
            "height": null,
            "justify_content": null,
            "justify_items": null,
            "left": null,
            "margin": null,
            "max_height": null,
            "max_width": null,
            "min_height": null,
            "min_width": null,
            "object_fit": null,
            "object_position": null,
            "order": null,
            "overflow": null,
            "overflow_x": null,
            "overflow_y": null,
            "padding": null,
            "right": null,
            "top": null,
            "visibility": null,
            "width": null
          }
        },
        "b3553145cc2c4f66946317cfd609e4a8": {
          "model_module": "@jupyter-widgets/controls",
          "model_name": "DescriptionStyleModel",
          "model_module_version": "1.5.0",
          "state": {
            "_model_module": "@jupyter-widgets/controls",
            "_model_module_version": "1.5.0",
            "_model_name": "DescriptionStyleModel",
            "_view_count": null,
            "_view_module": "@jupyter-widgets/base",
            "_view_module_version": "1.2.0",
            "_view_name": "StyleView",
            "description_width": ""
          }
        },
        "2f163446e0604e72a9613550f53ba731": {
          "model_module": "@jupyter-widgets/base",
          "model_name": "LayoutModel",
          "model_module_version": "1.2.0",
          "state": {
            "_model_module": "@jupyter-widgets/base",
            "_model_module_version": "1.2.0",
            "_model_name": "LayoutModel",
            "_view_count": null,
            "_view_module": "@jupyter-widgets/base",
            "_view_module_version": "1.2.0",
            "_view_name": "LayoutView",
            "align_content": null,
            "align_items": null,
            "align_self": null,
            "border": null,
            "bottom": null,
            "display": null,
            "flex": null,
            "flex_flow": null,
            "grid_area": null,
            "grid_auto_columns": null,
            "grid_auto_flow": null,
            "grid_auto_rows": null,
            "grid_column": null,
            "grid_gap": null,
            "grid_row": null,
            "grid_template_areas": null,
            "grid_template_columns": null,
            "grid_template_rows": null,
            "height": null,
            "justify_content": null,
            "justify_items": null,
            "left": null,
            "margin": null,
            "max_height": null,
            "max_width": null,
            "min_height": null,
            "min_width": null,
            "object_fit": null,
            "object_position": null,
            "order": null,
            "overflow": null,
            "overflow_x": null,
            "overflow_y": null,
            "padding": null,
            "right": null,
            "top": null,
            "visibility": null,
            "width": null
          }
        },
        "e2ab231c0ee44b8eb54079a5177987c9": {
          "model_module": "@jupyter-widgets/controls",
          "model_name": "ProgressStyleModel",
          "model_module_version": "1.5.0",
          "state": {
            "_model_module": "@jupyter-widgets/controls",
            "_model_module_version": "1.5.0",
            "_model_name": "ProgressStyleModel",
            "_view_count": null,
            "_view_module": "@jupyter-widgets/base",
            "_view_module_version": "1.2.0",
            "_view_name": "StyleView",
            "bar_color": null,
            "description_width": ""
          }
        },
        "9e880f24df614c2092b8014fea86ae5a": {
          "model_module": "@jupyter-widgets/base",
          "model_name": "LayoutModel",
          "model_module_version": "1.2.0",
          "state": {
            "_model_module": "@jupyter-widgets/base",
            "_model_module_version": "1.2.0",
            "_model_name": "LayoutModel",
            "_view_count": null,
            "_view_module": "@jupyter-widgets/base",
            "_view_module_version": "1.2.0",
            "_view_name": "LayoutView",
            "align_content": null,
            "align_items": null,
            "align_self": null,
            "border": null,
            "bottom": null,
            "display": null,
            "flex": null,
            "flex_flow": null,
            "grid_area": null,
            "grid_auto_columns": null,
            "grid_auto_flow": null,
            "grid_auto_rows": null,
            "grid_column": null,
            "grid_gap": null,
            "grid_row": null,
            "grid_template_areas": null,
            "grid_template_columns": null,
            "grid_template_rows": null,
            "height": null,
            "justify_content": null,
            "justify_items": null,
            "left": null,
            "margin": null,
            "max_height": null,
            "max_width": null,
            "min_height": null,
            "min_width": null,
            "object_fit": null,
            "object_position": null,
            "order": null,
            "overflow": null,
            "overflow_x": null,
            "overflow_y": null,
            "padding": null,
            "right": null,
            "top": null,
            "visibility": null,
            "width": null
          }
        },
        "3184dba74e724e2f8852bd35e19dc106": {
          "model_module": "@jupyter-widgets/controls",
          "model_name": "DescriptionStyleModel",
          "model_module_version": "1.5.0",
          "state": {
            "_model_module": "@jupyter-widgets/controls",
            "_model_module_version": "1.5.0",
            "_model_name": "DescriptionStyleModel",
            "_view_count": null,
            "_view_module": "@jupyter-widgets/base",
            "_view_module_version": "1.2.0",
            "_view_name": "StyleView",
            "description_width": ""
          }
        }
      }
    }
  },
  "nbformat_minor": 0,
  "nbformat": 4,
  "cells": [
    {
      "cell_type": "code",
      "source": [
        "!pip install -q -U transformers"
      ],
      "metadata": {
        "execution": {
          "iopub.status.busy": "2023-11-15T06:59:22.373631Z",
          "iopub.execute_input": "2023-11-15T06:59:22.374369Z",
          "iopub.status.idle": "2023-11-15T06:59:46.400133Z",
          "shell.execute_reply.started": "2023-11-15T06:59:22.374341Z",
          "shell.execute_reply": "2023-11-15T06:59:46.399093Z"
        },
        "trusted": true,
        "id": "0X9z-Cim1oYE"
      },
      "execution_count": 1,
      "outputs": []
    },
    {
      "cell_type": "code",
      "source": [
        "model_path=\"TinyLlama/TinyLlama-1.1B-Chat-v1.0\""
      ],
      "metadata": {
        "execution": {
          "iopub.status.busy": "2023-11-15T07:02:01.219686Z",
          "iopub.execute_input": "2023-11-15T07:02:01.220085Z",
          "iopub.status.idle": "2023-11-15T07:02:01.225583Z",
          "shell.execute_reply.started": "2023-11-15T07:02:01.220049Z",
          "shell.execute_reply": "2023-11-15T07:02:01.224411Z"
        },
        "trusted": true,
        "id": "tA59xIpr1oYF"
      },
      "execution_count": 2,
      "outputs": []
    },
    {
      "cell_type": "code",
      "source": [
        "from transformers import AutoTokenizer"
      ],
      "metadata": {
        "execution": {
          "iopub.status.busy": "2023-11-15T07:02:52.880049Z",
          "iopub.execute_input": "2023-11-15T07:02:52.880636Z",
          "iopub.status.idle": "2023-11-15T07:02:58.188331Z",
          "shell.execute_reply.started": "2023-11-15T07:02:52.880602Z",
          "shell.execute_reply": "2023-11-15T07:02:58.187367Z"
        },
        "trusted": true,
        "id": "7J0f_hOB1oYG"
      },
      "execution_count": 3,
      "outputs": []
    },
    {
      "cell_type": "code",
      "source": [
        "tokenizer = AutoTokenizer.from_pretrained(model_path)"
      ],
      "metadata": {
        "execution": {
          "iopub.status.busy": "2023-11-15T07:04:05.460592Z",
          "iopub.execute_input": "2023-11-15T07:04:05.461606Z",
          "iopub.status.idle": "2023-11-15T07:04:05.591170Z",
          "shell.execute_reply.started": "2023-11-15T07:04:05.461565Z",
          "shell.execute_reply": "2023-11-15T07:04:05.590258Z"
        },
        "trusted": true,
        "id": "TIAAjvmg1oYG"
      },
      "execution_count": 4,
      "outputs": []
    },
    {
      "cell_type": "code",
      "source": [
        "from transformers import AutoModelForCausalLM"
      ],
      "metadata": {
        "execution": {
          "iopub.status.busy": "2023-11-15T07:05:33.953437Z",
          "iopub.execute_input": "2023-11-15T07:05:33.953836Z",
          "iopub.status.idle": "2023-11-15T07:05:33.969927Z",
          "shell.execute_reply.started": "2023-11-15T07:05:33.953807Z",
          "shell.execute_reply": "2023-11-15T07:05:33.969101Z"
        },
        "trusted": true,
        "id": "asAnbP8u1oYH"
      },
      "execution_count": 5,
      "outputs": []
    },
    {
      "cell_type": "code",
      "source": [
        "!pip install accelerate"
      ],
      "metadata": {
        "id": "a4Q49x3u2PJU",
        "outputId": "33228c6a-a41d-4726-c320-1cb801d6d85f",
        "colab": {
          "base_uri": "https://localhost:8080/"
        }
      },
      "execution_count": 14,
      "outputs": [
        {
          "output_type": "stream",
          "name": "stdout",
          "text": [
            "Requirement already satisfied: accelerate in /usr/local/lib/python3.10/dist-packages (0.27.2)\n",
            "Requirement already satisfied: numpy>=1.17 in /usr/local/lib/python3.10/dist-packages (from accelerate) (1.25.2)\n",
            "Requirement already satisfied: packaging>=20.0 in /usr/local/lib/python3.10/dist-packages (from accelerate) (23.2)\n",
            "Requirement already satisfied: psutil in /usr/local/lib/python3.10/dist-packages (from accelerate) (5.9.5)\n",
            "Requirement already satisfied: pyyaml in /usr/local/lib/python3.10/dist-packages (from accelerate) (6.0.1)\n",
            "Requirement already satisfied: torch>=1.10.0 in /usr/local/lib/python3.10/dist-packages (from accelerate) (2.1.0+cu121)\n",
            "Requirement already satisfied: huggingface-hub in /usr/local/lib/python3.10/dist-packages (from accelerate) (0.20.3)\n",
            "Requirement already satisfied: safetensors>=0.3.1 in /usr/local/lib/python3.10/dist-packages (from accelerate) (0.4.2)\n",
            "Requirement already satisfied: filelock in /usr/local/lib/python3.10/dist-packages (from torch>=1.10.0->accelerate) (3.13.1)\n",
            "Requirement already satisfied: typing-extensions in /usr/local/lib/python3.10/dist-packages (from torch>=1.10.0->accelerate) (4.10.0)\n",
            "Requirement already satisfied: sympy in /usr/local/lib/python3.10/dist-packages (from torch>=1.10.0->accelerate) (1.12)\n",
            "Requirement already satisfied: networkx in /usr/local/lib/python3.10/dist-packages (from torch>=1.10.0->accelerate) (3.2.1)\n",
            "Requirement already satisfied: jinja2 in /usr/local/lib/python3.10/dist-packages (from torch>=1.10.0->accelerate) (3.1.3)\n",
            "Requirement already satisfied: fsspec in /usr/local/lib/python3.10/dist-packages (from torch>=1.10.0->accelerate) (2023.6.0)\n",
            "Requirement already satisfied: triton==2.1.0 in /usr/local/lib/python3.10/dist-packages (from torch>=1.10.0->accelerate) (2.1.0)\n",
            "Requirement already satisfied: requests in /usr/local/lib/python3.10/dist-packages (from huggingface-hub->accelerate) (2.31.0)\n",
            "Requirement already satisfied: tqdm>=4.42.1 in /usr/local/lib/python3.10/dist-packages (from huggingface-hub->accelerate) (4.66.2)\n",
            "Requirement already satisfied: MarkupSafe>=2.0 in /usr/local/lib/python3.10/dist-packages (from jinja2->torch>=1.10.0->accelerate) (2.1.5)\n",
            "Requirement already satisfied: charset-normalizer<4,>=2 in /usr/local/lib/python3.10/dist-packages (from requests->huggingface-hub->accelerate) (3.3.2)\n",
            "Requirement already satisfied: idna<4,>=2.5 in /usr/local/lib/python3.10/dist-packages (from requests->huggingface-hub->accelerate) (3.6)\n",
            "Requirement already satisfied: urllib3<3,>=1.21.1 in /usr/local/lib/python3.10/dist-packages (from requests->huggingface-hub->accelerate) (2.0.7)\n",
            "Requirement already satisfied: certifi>=2017.4.17 in /usr/local/lib/python3.10/dist-packages (from requests->huggingface-hub->accelerate) (2024.2.2)\n",
            "Requirement already satisfied: mpmath>=0.19 in /usr/local/lib/python3.10/dist-packages (from sympy->torch>=1.10.0->accelerate) (1.3.0)\n"
          ]
        }
      ]
    },
    {
      "cell_type": "code",
      "source": [
        "import torch\n",
        "model = AutoModelForCausalLM.from_pretrained(\n",
        "    model_path,\n",
        "    torch_dtype = torch.bfloat16,\n",
        "    device_map = \"auto\",\n",
        "    trust_remote_code = True,\n",
        ")"
      ],
      "metadata": {
        "execution": {
          "iopub.status.busy": "2023-11-15T07:08:12.378408Z",
          "iopub.execute_input": "2023-11-15T07:08:12.378820Z",
          "iopub.status.idle": "2023-11-15T07:10:17.083853Z",
          "shell.execute_reply.started": "2023-11-15T07:08:12.378789Z",
          "shell.execute_reply": "2023-11-15T07:10:17.083016Z"
        },
        "trusted": true,
        "id": "ZZK2sFF31oYH",
        "outputId": "cda749ef-2f4c-4553-e705-682cd05fb653",
        "colab": {
          "base_uri": "https://localhost:8080/",
          "height": 81,
          "referenced_widgets": [
            "f26a4c93e3ca4342bc9400db8549a434",
            "de9b4d3f67e64d4798ae858f03bb59eb",
            "a7fc4bf07d13454dbc6cb6def498c6fd",
            "a563be05436e4f3d9b5ed35f2eeb7613",
            "562cd4463f4d49759f3d76564207ae60",
            "853e7ae219e946a0acf5d81e5a095f73",
            "12d9fd8f5d4e4f24bef308c8d2853b47",
            "b572e35ac27f4cb88984a253b663bafd",
            "23198f0b6d934b0d8d7cc558591ec756",
            "cc58c0d3a770406b8735c58c7d5fcf37",
            "1418dd36437f497eb7815fd0951f5ed4",
            "238b440b0b21456ba1d1fe828f79cd20",
            "fdcf24f9685a4ad0a78b701db3b128df",
            "76b7f9e3b37f48089f2dcf50086fffe4",
            "21436cb1172c43b7a6c52f8daddee56b",
            "88153532c67448a689eb0128c61a94c0",
            "0a0944350c2c45eb882b2ef8244d0c1f",
            "b3553145cc2c4f66946317cfd609e4a8",
            "2f163446e0604e72a9613550f53ba731",
            "e2ab231c0ee44b8eb54079a5177987c9",
            "9e880f24df614c2092b8014fea86ae5a",
            "3184dba74e724e2f8852bd35e19dc106"
          ]
        }
      },
      "execution_count": 6,
      "outputs": [
        {
          "output_type": "display_data",
          "data": {
            "text/plain": [
              "model.safetensors:   0%|          | 0.00/2.20G [00:00<?, ?B/s]"
            ],
            "application/vnd.jupyter.widget-view+json": {
              "version_major": 2,
              "version_minor": 0,
              "model_id": "f26a4c93e3ca4342bc9400db8549a434"
            }
          },
          "metadata": {}
        },
        {
          "output_type": "display_data",
          "data": {
            "text/plain": [
              "generation_config.json:   0%|          | 0.00/124 [00:00<?, ?B/s]"
            ],
            "application/vnd.jupyter.widget-view+json": {
              "version_major": 2,
              "version_minor": 0,
              "model_id": "238b440b0b21456ba1d1fe828f79cd20"
            }
          },
          "metadata": {}
        }
      ]
    },
    {
      "cell_type": "code",
      "source": [
        "messages = [{\n",
        "    \"role\":\"user\",\n",
        "    \"content\":\"I want to travel around the world, \\\n",
        "    suggest three must-see cities.\"\n",
        "}]"
      ],
      "metadata": {
        "execution": {
          "iopub.status.busy": "2023-11-15T07:14:13.667672Z",
          "iopub.execute_input": "2023-11-15T07:14:13.668224Z",
          "iopub.status.idle": "2023-11-15T07:14:13.673257Z",
          "shell.execute_reply.started": "2023-11-15T07:14:13.668192Z",
          "shell.execute_reply": "2023-11-15T07:14:13.672274Z"
        },
        "trusted": true,
        "id": "ToKqp90-1oYI"
      },
      "execution_count": 7,
      "outputs": []
    },
    {
      "cell_type": "code",
      "source": [
        "model_inputs = tokenizer.apply_chat_template(\n",
        "    messages,\n",
        "    return_tensors = \"pt\",\n",
        ")"
      ],
      "metadata": {
        "execution": {
          "iopub.status.busy": "2023-11-15T07:15:44.855465Z",
          "iopub.execute_input": "2023-11-15T07:15:44.856404Z",
          "iopub.status.idle": "2023-11-15T07:15:44.905137Z",
          "shell.execute_reply.started": "2023-11-15T07:15:44.856367Z",
          "shell.execute_reply": "2023-11-15T07:15:44.904238Z"
        },
        "trusted": true,
        "id": "mr9TtOrK1oYJ"
      },
      "execution_count": 8,
      "outputs": []
    },
    {
      "cell_type": "code",
      "source": [
        "generated_ids = model.generate(\n",
        "    model_inputs,\n",
        "    max_new_tokens = 1000,\n",
        "    do_sample = True,\n",
        ")"
      ],
      "metadata": {
        "execution": {
          "iopub.status.busy": "2023-11-15T07:17:57.898587Z",
          "iopub.execute_input": "2023-11-15T07:17:57.898973Z",
          "iopub.status.idle": "2023-11-15T07:18:43.765886Z",
          "shell.execute_reply.started": "2023-11-15T07:17:57.898942Z",
          "shell.execute_reply": "2023-11-15T07:18:43.764557Z"
        },
        "trusted": true,
        "id": "hWZOn39a1oYK"
      },
      "execution_count": 9,
      "outputs": []
    },
    {
      "cell_type": "code",
      "source": [
        "decoded = tokenizer.batch_decode(generated_ids)"
      ],
      "metadata": {
        "execution": {
          "iopub.status.busy": "2023-11-15T07:19:39.104086Z",
          "iopub.execute_input": "2023-11-15T07:19:39.104467Z",
          "iopub.status.idle": "2023-11-15T07:19:39.109960Z",
          "shell.execute_reply.started": "2023-11-15T07:19:39.104440Z",
          "shell.execute_reply": "2023-11-15T07:19:39.108956Z"
        },
        "trusted": true,
        "id": "50RwanSS1oYM"
      },
      "execution_count": 10,
      "outputs": []
    },
    {
      "cell_type": "code",
      "source": [
        "print(decoded[0])"
      ],
      "metadata": {
        "execution": {
          "iopub.status.busy": "2023-11-15T07:20:30.894946Z",
          "iopub.execute_input": "2023-11-15T07:20:30.895717Z",
          "iopub.status.idle": "2023-11-15T07:20:30.900928Z",
          "shell.execute_reply.started": "2023-11-15T07:20:30.895681Z",
          "shell.execute_reply": "2023-11-15T07:20:30.899793Z"
        },
        "trusted": true,
        "id": "22aIkFjQ1oYN",
        "outputId": "a390a73e-5561-4a59-9fd2-70d2db7d4eb7",
        "colab": {
          "base_uri": "https://localhost:8080/"
        }
      },
      "execution_count": 11,
      "outputs": [
        {
          "output_type": "stream",
          "name": "stdout",
          "text": [
            "<|user|>\n",
            "I want to travel around the world,     suggest three must-see cities.</s> \n",
            "<|assistant|>\n",
            "Certainly, here are three must-see cities that you can visit if you want to experience a diverse range of cultures and landmarks:\n",
            "\n",
            "1. Sydney, Australia - With its vibrant arts and culture scene, beautiful beaches, and stunning landmarks like the Opera House and the Sydney Harbour Bridge, Sydney is a must-visit destination for travelers.\n",
            "\n",
            "2. Tokyo, Japan - Home to innovative designs, cutting-edge technology, and countless food and cultural experiences, Tokyo is a city that's both dynamic and enchanting.\n",
            "\n",
            "3. New York City, USA - Known for its diverse multicultural vibe, vibrant nightlife, and world-class museums and theaters, New York City has so much to offer, both for tourists and locals alike.\n",
            "\n",
            "Remember, each city has its unique attractions and experiences, so it's best to research and prioritize your preferred destinations accordingly. Enjoy your travels!</s>\n"
          ]
        }
      ]
    },
    {
      "cell_type": "code",
      "source": [
        "messages = [{\n",
        "    \"role\": \"user\",\n",
        "    \"content\": \"Act as a gourmet chef. I have a friend coming over who is a vegetarian. \\\n",
        "    I want to impress my friend with a special vegetarian dish. \\\n",
        "    What do you recommend? \\\n",
        "    Give me two options, along with the whole recipe for each\"\n",
        "}]"
      ],
      "metadata": {
        "execution": {
          "iopub.status.busy": "2023-11-15T07:23:12.869761Z",
          "iopub.execute_input": "2023-11-15T07:23:12.870157Z",
          "iopub.status.idle": "2023-11-15T07:23:12.875074Z",
          "shell.execute_reply.started": "2023-11-15T07:23:12.870129Z",
          "shell.execute_reply": "2023-11-15T07:23:12.874174Z"
        },
        "trusted": true,
        "id": "xwl1jQIO1oYO"
      },
      "execution_count": null,
      "outputs": []
    },
    {
      "cell_type": "code",
      "source": [
        "model_inputs = tokenizer.apply_chat_template(\n",
        "    messages,\n",
        "    return_tensors = \"pt\",\n",
        ")\n",
        "generated_ids = model.generate(\n",
        "    model_inputs,\n",
        "    max_new_tokens = 1000,\n",
        "    do_sample = True,\n",
        ")\n",
        "decoded = tokenizer.batch_decode(generated_ids)\n",
        "print(decoded[0])"
      ],
      "metadata": {
        "execution": {
          "iopub.status.busy": "2023-11-15T07:24:53.583315Z",
          "iopub.execute_input": "2023-11-15T07:24:53.584176Z",
          "iopub.status.idle": "2023-11-15T07:25:41.410104Z",
          "shell.execute_reply.started": "2023-11-15T07:24:53.584140Z",
          "shell.execute_reply": "2023-11-15T07:25:41.408974Z"
        },
        "trusted": true,
        "id": "HdXHAkYz1oYO",
        "outputId": "8f4836a7-3e14-4a50-8f40-4b3817ac47e9"
      },
      "execution_count": null,
      "outputs": [
        {
          "name": "stderr",
          "text": "The attention mask and the pad token id were not set. As a consequence, you may observe unexpected behavior. Please pass your input's `attention_mask` to obtain reliable results.\nSetting `pad_token_id` to `eos_token_id`:2 for open-end generation.\n/opt/conda/lib/python3.10/site-packages/transformers/generation/utils.py:1591: UserWarning: You are calling .generate() with the `input_ids` being on a device type different than your model's device. `input_ids` is on cpu, whereas the model is on cuda. You may experience unexpected behaviors or slower generation. Please make sure that you have put `input_ids` to the correct device by calling for example input_ids = input_ids.to('cuda') before running `.generate()`.\n  warnings.warn(\n",
          "output_type": "stream"
        },
        {
          "name": "stdout",
          "text": "<s> [INST] Act as a gourmet chef. I have a friend coming over who is a vegetarian.     I want to impress my friend with a special vegetarian dish.     What do you recommend?     Give me two options, along with the whole recipe for each [/INST] Sure, I would be happy to help! Here are two vegetarian dishes that I think will impress your friend:\n1. Roasted Butternut Squash Risotto with Parmesan Cheese\n\nIngredients:\n\n* 1 large butternut squash, peeled and cubed\n* 2 tbsp olive oil\n* Salt and pepper\n* 1 cup Arborio rice\n* 4 cups vegetable broth\n* 1 cup grated Parmesan cheese\n* Fresh parsley, chopped\n\nInstructions:\n\nPreheat the oven to 400 degrees F (200 degrees C). Toss the cubed butternut squash with olive oil, salt, and pepper. Spread the squash on a baking sheet and roast it in the oven for 20-25 minutes, or until tender and slightly browned.\n\nIn a large saucepan, heat the vegetable broth over medium heat. In a separate large saucepan, heat 2 tbsp of olive oil over medium heat. Add the Arborio rice and stir constantly for 1-2 minutes, until the rice is lightly toasted and the oils are absorbed.\n\nGradually add the hot vegetable broth, stirring constantly, and add more broth as needed until the rice is tender. Once the rice is tender, remove it from the heat and stir in the roasted butternut squash and grated Parmesan cheese. Serve the risotto hot, garnished with fresh parsley.\n2. Vegetable Stir-Fry with Tofu and Sesame Seeds\n\nIngredients:\n\n* 1 tbsp vegetable oil\n* 1 package of firm tofu, drained and cubed\n* 2 cups sliced mushrooms\n* 1 red bell pepper, sliced\n* 1 green bell pepper, sliced\n* 1 onion, sliced\n* 2 cloves garlic, minced\n* 1 inch piece of ginger, grated\n* 2 tbsp soy sauce\n* 1 tbsp honey\n* 1 tbsp cornstarch\n* 1/2 cup vegetable broth\n* 1/4 cup chopped scallions\n* 2 tbsp sesame seeds\n\nInstructions:\n\nHeat the vegetable oil in a large wok or frying pan over high heat. Add the tofu, mushrooms, red and green bell peppers, onion, garlic, and ginger. Stir constantly and cook for 3-4 minutes, until the vegetables are lightly browned and tender.\n\nIn a small bowl, whisk together the soy sauce, honey, cornstarch, and vegetable broth to make a sauce. Pour the sauce over the vegetables and stir constantly until the sauce thickens.\n\nAdd the chopped scallions and sesame seeds to the pan and stir constantly for 1-2 minutes, until the scallions are wilted and the sesame seeds are lightly toasted. Serve the stir-fry hot, over rice or noodles.\n\nI hope these recipes help you impress your friend! Let me know if you have any questions or need further assistance.</s>\n",
          "output_type": "stream"
        }
      ]
    },
    {
      "cell_type": "code",
      "source": [
        "messages = [{\n",
        "    \"role\":\"user\",\n",
        "    \"content\":\"How many helicopters can a human eat in one sitting?\"\n",
        "}]"
      ],
      "metadata": {
        "execution": {
          "iopub.status.busy": "2023-11-15T07:28:34.081051Z",
          "iopub.execute_input": "2023-11-15T07:28:34.081427Z",
          "iopub.status.idle": "2023-11-15T07:28:34.086714Z",
          "shell.execute_reply.started": "2023-11-15T07:28:34.081398Z",
          "shell.execute_reply": "2023-11-15T07:28:34.085528Z"
        },
        "trusted": true,
        "id": "lrP2WAKA1oYP"
      },
      "execution_count": null,
      "outputs": []
    },
    {
      "cell_type": "code",
      "source": [
        "model_inputs = tokenizer.apply_chat_template(\n",
        "    messages,\n",
        "    return_tensors = \"pt\",\n",
        ")\n",
        "generated_ids = model.generate(\n",
        "    model_inputs,\n",
        "    max_new_tokens = 1000,\n",
        "    do_sample = True,\n",
        ")\n",
        "decoded = tokenizer.batch_decode(generated_ids)\n",
        "print(decoded[0])"
      ],
      "metadata": {
        "execution": {
          "iopub.status.busy": "2023-11-15T07:29:12.643713Z",
          "iopub.execute_input": "2023-11-15T07:29:12.644611Z",
          "iopub.status.idle": "2023-11-15T07:29:16.917034Z",
          "shell.execute_reply.started": "2023-11-15T07:29:12.644573Z",
          "shell.execute_reply": "2023-11-15T07:29:16.915058Z"
        },
        "trusted": true,
        "id": "3arD6jz31oYP",
        "outputId": "b8dc66f9-60ff-4c8e-ae4b-b00f12dada67"
      },
      "execution_count": null,
      "outputs": [
        {
          "name": "stderr",
          "text": "The attention mask and the pad token id were not set. As a consequence, you may observe unexpected behavior. Please pass your input's `attention_mask` to obtain reliable results.\nSetting `pad_token_id` to `eos_token_id`:2 for open-end generation.\n",
          "output_type": "stream"
        },
        {
          "name": "stdout",
          "text": "<s> [INST] How many helicopters can a human eat in one sitting? [/INST] It is not possible for a human to eat an entire helicopter in one sitting, as helicopters are not meant to be eaten and are much larger than the human mouth. Additionally, helicopters contain various hazardous materials and components that are not suitable for consumption.</s>\n",
          "output_type": "stream"
        }
      ]
    },
    {
      "cell_type": "code",
      "source": [],
      "metadata": {
        "id": "qLNwsVbl1oYQ"
      },
      "execution_count": null,
      "outputs": []
    }
  ]
}