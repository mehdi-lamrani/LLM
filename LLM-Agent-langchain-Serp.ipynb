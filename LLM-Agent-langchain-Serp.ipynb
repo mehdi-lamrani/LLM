{
  "cells": [
    {
      "cell_type": "markdown",
      "metadata": {
        "id": "view-in-github",
        "colab_type": "text"
      },
      "source": [
        "<a href=\"https://colab.research.google.com/github/mehdi-lamrani/llm/blob/main/LLM-Agent-langchain-Serp.ipynb\" target=\"_parent\"><img src=\"https://colab.research.google.com/assets/colab-badge.svg\" alt=\"Open In Colab\"/></a>"
      ]
    },
    {
      "cell_type": "markdown",
      "id": "5170bf5b",
      "metadata": {
        "id": "5170bf5b"
      },
      "source": [
        "# Agents - Make OpenAI Do Things For you"
      ]
    },
    {
      "cell_type": "markdown",
      "id": "8d9faa06",
      "metadata": {
        "id": "8d9faa06"
      },
      "source": [
        "*[Source](https://langchain.readthedocs.io/en/latest/modules/agents/getting_started.html)*\n",
        "* **Agent** - Agents use an LLM to determine which actions to take and in what order. An action can either be using a tool and observing its output, or returning to the user.\n",
        "\n",
        "Parameters when creating an agent:\n",
        "* **Tool:** A function that performs a specific duty. This can be things like: Google Search, Database lookup, Python REPL, other chains. The interface for a tool is currently a function that is expected to have a string as an input, with a string as an output.\n",
        "* **LLM:** The language model powering the agent.\n",
        "* **Agent:** The agent to use. This should be a string that references a support agent class. Because this notebook focuses on the simplest, highest level API, this only covers using the standard supported agents. If you want to implement a custom agent, see the documentation for custom agents (coming soon)."
      ]
    },
    {
      "cell_type": "code",
      "source": [
        "!pip install -r requirements.txt"
      ],
      "metadata": {
        "id": "F-diU0Cg_BGu"
      },
      "id": "F-diU0Cg_BGu",
      "execution_count": null,
      "outputs": []
    },
    {
      "cell_type": "code",
      "source": [
        "!pip install langchain\n",
        "!pip install openai\n",
        "!pip install google-search-results\n",
        "\n"
      ],
      "metadata": {
        "id": "LVdAX5z__T2c"
      },
      "id": "LVdAX5z__T2c",
      "execution_count": null,
      "outputs": []
    },
    {
      "cell_type": "code",
      "execution_count": 9,
      "id": "7f247903",
      "metadata": {
        "id": "7f247903"
      },
      "outputs": [],
      "source": [
        "from langchain.agents import initialize_agent\n",
        "from langchain.llms import OpenAI"
      ]
    },
    {
      "cell_type": "markdown",
      "id": "0bd3670a",
      "metadata": {
        "id": "0bd3670a"
      },
      "source": [
        "### List of Tools\n",
        "1. **python_repl -** A Python shell. Use this to execute python commands. Input should be a valid python command. If you expect output it should be printed out.\n",
        "2. **serpapi [Complete] -** A search engine. Useful for when you need to answer questions about current events. Input should be a search query.\n",
        "3. **wolfram-alpha [Complete] -** A wolfram alpha search engine. Useful for when you need to answer questions about Math, Science, Technology, Culture, Society and Everyday Life. Input should be a search query.\n",
        "4. **requests -** A portal to the internet. Use this when you need to get specific content from a site. Input should be a specific url, and the output will be all the text on that page.\n",
        "5. **terminal -** Executes commands in a terminal. Input should be valid commands, and the output will be any output from running that command.\n",
        "6. **pal-math -** A language model that is excellent at solving complex word math problems. Input should be a fully worded hard word math problem.\n",
        "7. **pal-colored-objects -** A language model that is wonderful at reasoning about position and the color attributes of objects. Input should be a fully worded hard reasoning problem. Make sure to include all information about the objects AND the final question you want to answer.\n",
        "8. **llm-math -** Useful for when you need to answer questions about math.\n",
        "9. **open-meteo-api -** Useful for when you want to get weather information from the OpenMeteo API. The input should be a question in natural language that this API can answer.\n",
        "10. **news-api -** Use this when you want to get information about the top headlines of current news stories. The input should be a question in natural language that this API can answer.\n",
        "11. **tmdb-api -** Useful for when you want to get information from The Movie Database. The input should be a question in natural language that this API can answer.\n",
        "12. **google-search -** A wrapper around Google Search. Useful for when you need to answer questions about current events. Input should be a search query.\n"
      ]
    },
    {
      "cell_type": "markdown",
      "id": "83032dcf",
      "metadata": {
        "id": "83032dcf"
      },
      "source": [
        "### 2. SERP API"
      ]
    },
    {
      "cell_type": "code",
      "execution_count": 10,
      "id": "0c90ba74",
      "metadata": {
        "id": "0c90ba74"
      },
      "outputs": [],
      "source": [
        "from google.colab import userdata\n",
        "\n",
        "import os\n",
        "os.environ['OPENAI_API_KEY'] = userdata.get('OPENAI_API_KEY')\n",
        "os.environ['SERPAPI_API_KEY'] = userdata.get('SERPAPI_API_KEY')\n"
      ]
    },
    {
      "cell_type": "code",
      "execution_count": 12,
      "id": "d0f2fd44",
      "metadata": {
        "id": "d0f2fd44"
      },
      "outputs": [],
      "source": [
        "llm = OpenAI(temperature=0)"
      ]
    },
    {
      "cell_type": "code",
      "execution_count": 13,
      "id": "f26a0dd5",
      "metadata": {
        "id": "f26a0dd5"
      },
      "outputs": [],
      "source": [
        "from langchain.agents import load_tools\n",
        "tools = load_tools([\"serpapi\"])"
      ]
    },
    {
      "cell_type": "code",
      "execution_count": 14,
      "id": "e8a35518",
      "metadata": {
        "id": "e8a35518"
      },
      "outputs": [],
      "source": [
        "agent = initialize_agent(tools, llm, agent=\"zero-shot-react-description\", verbose=True)"
      ]
    },
    {
      "cell_type": "code",
      "execution_count": 15,
      "id": "829a2d67",
      "metadata": {
        "id": "829a2d67",
        "outputId": "3f89c97b-b4fc-483f-ffa8-c133413f6666",
        "colab": {
          "base_uri": "https://localhost:8080/",
          "height": 261
        }
      },
      "outputs": [
        {
          "output_type": "stream",
          "name": "stdout",
          "text": [
            "\n",
            "\n",
            "\u001b[1m> Entering new AgentExecutor chain...\u001b[0m\n",
            "\u001b[32;1m\u001b[1;3m I should search for information about Eminem\n",
            "Action: Search\n",
            "Action Input: Eminem\u001b[0m\n",
            "Observation: \u001b[36;1m\u001b[1;3m[{'title': \"Benzino Continues Dissing Eminem Over 'Trash' 2Pac Album: 'That Was A Disgrace'\", 'link': 'https://hiphopdx.com/news/benzino-eminem-2pac-album-disgrace', 'source': 'HipHopDX', 'date': '13 hours ago', 'thumbnail': 'https://encrypted-tbn0.gstatic.com/images?q=tbn:ANd9GcRr-s1bPQow35n2AnfzK2px5AZPxMfudp5Fha_TgflXe4D_o56sJ_qxCME&usqp=CAI&s'}, {'title': 'Eminem — “The Slim Shady LP” 25th Anniversary | Eminem.Pro - the biggest and most trusted source of Eminem', 'link': 'https://eminem.news/sslp-25.html', 'source': 'Eminem.Pro', 'date': '2 days ago', 'thumbnail': 'https://encrypted-tbn0.gstatic.com/images?q=tbn:ANd9GcS4KmcZcOtTfBW7_iXwgcDeqNa5ypO5QJxYR8ZO-VSQkInNhnAUQ6gf-p0&usqp=CAI&s'}, {'title': 'Adah Sharma lip-syncs to Eminem’s Rap God, video goes viral. Watch', 'link': 'https://www.hindustantimes.com/trending/adah-sharma-lip-syncs-to-eminem-s-rap-god-video-goes-viral-watch-101708834843101.html', 'source': 'Hindustan Times', 'date': '2 days ago', 'thumbnail': 'https://encrypted-tbn0.gstatic.com/images?q=tbn:ANd9GcROJcBjAG1F6R-30oe3DI7DaBNmmgS2Z8Yu-wWntdzBHmZ4Kkd5dllwcV4&usqp=CAI&s'}, {'title': \"What does 'stan' mean? Understanding its definition in fandom culture.\", 'link': 'https://www.usatoday.com/story/life/2024/02/24/what-does-stan-mean/72632283007/', 'source': 'USA Today', 'date': '2 days ago', 'thumbnail': 'https://encrypted-tbn0.gstatic.com/images?q=tbn:ANd9GcTFbpJ20tvf-MUhxXPfhlGYlj9RpQDZfPMhs3Y_mYW06Yt25_3lKYQfCy8&usqp=CAI&s'}]\u001b[0m\n",
            "Thought:\u001b[32;1m\u001b[1;3m I now know the final answer\n",
            "Final Answer: Eminem is a popular American rapper, songwriter, and record producer. He is known for his controversial lyrics and fast-paced flow. He rose to fame in the late 1990s and has since become one of the best-selling artists of all time.\u001b[0m\n",
            "\n",
            "\u001b[1m> Finished chain.\u001b[0m\n"
          ]
        },
        {
          "output_type": "execute_result",
          "data": {
            "text/plain": [
              "'Eminem is a popular American rapper, songwriter, and record producer. He is known for his controversial lyrics and fast-paced flow. He rose to fame in the late 1990s and has since become one of the best-selling artists of all time.'"
            ],
            "application/vnd.google.colaboratory.intrinsic+json": {
              "type": "string"
            }
          },
          "metadata": {},
          "execution_count": 15
        }
      ],
      "source": [
        "agent.run(\"Who is Eminem?\")"
      ]
    }
  ],
  "metadata": {
    "kernelspec": {
      "display_name": "Python 3",
      "name": "python3"
    },
    "language_info": {
      "codemirror_mode": {
        "name": "ipython",
        "version": 3
      },
      "file_extension": ".py",
      "mimetype": "text/x-python",
      "name": "python",
      "nbconvert_exporter": "python",
      "pygments_lexer": "ipython3",
      "version": "3.9.13"
    },
    "colab": {
      "provenance": [],
      "include_colab_link": true
    }
  },
  "nbformat": 4,
  "nbformat_minor": 5
}