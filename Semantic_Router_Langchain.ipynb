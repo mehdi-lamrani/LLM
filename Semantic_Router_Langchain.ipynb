{
  "nbformat": 4,
  "nbformat_minor": 0,
  "metadata": {
    "colab": {
      "provenance": [],
      "authorship_tag": "ABX9TyPPe1v0gBjCvDfKAlkbu/eX",
      "include_colab_link": true
    },
    "kernelspec": {
      "name": "python3",
      "display_name": "Python 3"
    },
    "language_info": {
      "name": "python"
    }
  },
  "cells": [
    {
      "cell_type": "markdown",
      "metadata": {
        "id": "view-in-github",
        "colab_type": "text"
      },
      "source": [
        "<a href=\"https://colab.research.google.com/github/mehdi-lamrani/llm/blob/main/Semantic_Router_Langchain.ipynb\" target=\"_parent\"><img src=\"https://colab.research.google.com/assets/colab-badge.svg\" alt=\"Open In Colab\"/></a>"
      ]
    },
    {
      "cell_type": "code",
      "source": [
        "!pip install langchain\n",
        "!pip install langchain_core\n",
        "!pip install langchain_openai"
      ],
      "metadata": {
        "id": "WU1gHOFZPenE"
      },
      "execution_count": null,
      "outputs": []
    },
    {
      "cell_type": "code",
      "execution_count": 16,
      "metadata": {
        "id": "IHVp8T0GOTAT"
      },
      "outputs": [],
      "source": [
        "\n",
        "from langchain.utils.math import cosine_similarity\n",
        "from langchain_core.output_parsers import StrOutputParser\n",
        "from langchain_core.prompts import PromptTemplate\n",
        "from langchain_core.runnables import RunnableLambda, RunnablePassthrough\n",
        "from langchain_openai import ChatOpenAI, OpenAIEmbeddings\n",
        "\n",
        "physics_template = \"\"\"You are a very smart physics professor. \\\n",
        "You are great at answering questions about physics in a concise and easy to understand manner. \\\n",
        "When you don't know the answer to a question you admit that you don't know.\n",
        "\n",
        "Here is a question:\n",
        "{query}\"\"\"\n",
        "\n",
        "math_template = \"\"\"You are a very good mathematician. You are great at answering math questions. \\\n",
        "You are so good because you are able to break down hard problems into their component parts, \\\n",
        "answer the component parts, and then put them together to answer the broader question.\n",
        "\n",
        "Here is a question:\n",
        "{query}\"\"\"\n",
        "\n",
        "biology_template = \"\"\"You are an expert biologist. You excel in explaining biological concepts and processes clearly and thoroughly. \\\n",
        "When confronted with a question outside your expertise, you acknowledge it honestly.\n",
        "\n",
        "Here is a question:\n",
        "{query}\"\"\"\n",
        "\n"
      ]
    },
    {
      "cell_type": "code",
      "source": [
        "import os\n",
        "from google.colab import userdata\n",
        "os.environ['OPENAI_API_KEY']= userdata.get('OPENAI_API_KEY')\n",
        "embeddings = OpenAIEmbeddings()\n"
      ],
      "metadata": {
        "id": "0WNM-A78QBt-"
      },
      "execution_count": 10,
      "outputs": []
    },
    {
      "cell_type": "code",
      "source": [
        "prompt_templates = [physics_template, math_template, biology_template]\n",
        "prompt_embeddings = embeddings.embed_documents(prompt_templates)\n",
        "\n",
        "\n",
        "def prompt_router(input):\n",
        "    query_embedding = embeddings.embed_query(input[\"query\"])\n",
        "    similarity = cosine_similarity([query_embedding], prompt_embeddings)[0]\n",
        "    most_similar = prompt_templates[similarity.argmax()]\n",
        "\n",
        "    template_type = {\n",
        "        math_template: \"Using MATH\",\n",
        "        physics_template: \"Using PHYSICS\",\n",
        "        biology_template: \"Using BIOLOGY\"\n",
        "    }\n",
        "\n",
        "    print(template_type.get(most_similar))\n",
        "\n",
        "    return PromptTemplate.from_template(most_similar)\n",
        "\n",
        "chain = (\n",
        "    {\"query\": RunnablePassthrough()}\n",
        "    | RunnableLambda(prompt_router)\n",
        "    | ChatOpenAI()\n",
        "    | StrOutputParser()\n",
        ")"
      ],
      "metadata": {
        "id": "SCz9_v8GQDIZ"
      },
      "execution_count": 19,
      "outputs": []
    },
    {
      "cell_type": "code",
      "source": [
        "print(chain.invoke(\"What's a Quasar\"))"
      ],
      "metadata": {
        "id": "MBQ8UMzbPL6R",
        "outputId": "7d14c0ba-3304-48cb-f259-be292ddb467c",
        "colab": {
          "base_uri": "https://localhost:8080/"
        }
      },
      "execution_count": 22,
      "outputs": [
        {
          "output_type": "stream",
          "name": "stdout",
          "text": [
            "Using PHYSICS\n",
            "A black hole is a region in space where gravity is so strong that nothing, not even light, can escape its pull. This happens when a massive star collapses in on itself, creating a singularity with infinite density at its core. The boundary surrounding the singularity is called the event horizon. Black holes can come in different sizes, with supermassive black holes at the centers of galaxies being the largest known examples.\n"
          ]
        }
      ]
    },
    {
      "cell_type": "code",
      "source": [
        "print(chain.invoke(\"What's a Quasar\"))"
      ],
      "metadata": {
        "id": "ALNh7wHbPN9W",
        "outputId": "8c4c2d57-a438-4359-f7aa-b2a5a3792919",
        "colab": {
          "base_uri": "https://localhost:8080/"
        }
      },
      "execution_count": 27,
      "outputs": [
        {
          "output_type": "stream",
          "name": "stdout",
          "text": [
            "Using PHYSICS\n",
            "A quasar is a highly energetic and distant celestial object that emits huge amounts of energy in the form of light and other electromagnetic radiation. Quasars are thought to be powered by supermassive black holes at the centers of galaxies, which accrete large amounts of matter and emit intense radiation as a result. They are some of the brightest and most powerful objects in the universe.\n"
          ]
        }
      ]
    },
    {
      "cell_type": "code",
      "source": [
        "print(chain.invoke(\"What's Vector Space\"))"
      ],
      "metadata": {
        "id": "1oLrzbJtSCgJ",
        "outputId": "7ff3c4b3-e014-40fd-f37e-dcc7e55c05ca",
        "colab": {
          "base_uri": "https://localhost:8080/"
        }
      },
      "execution_count": 25,
      "outputs": [
        {
          "output_type": "stream",
          "name": "stdout",
          "text": [
            "Using MATH\n",
            "A vector space is a mathematical structure that consists of a set of elements, called vectors, along with operations of addition and scalar multiplication that satisfy certain properties. These properties include closure under addition and scalar multiplication, associativity and commutativity of addition, distributivity of scalar multiplication over addition, and the existence of an additive identity (the zero vector) and additive inverses for every vector.\n",
            "\n",
            "In simpler terms, a vector space is a space in which vectors can be added together and multiplied by scalars in a consistent and well-defined way. Vector spaces are fundamental in many areas of mathematics, including linear algebra, functional analysis, and geometry.\n"
          ]
        }
      ]
    },
    {
      "cell_type": "code",
      "source": [],
      "metadata": {
        "id": "CphgNOlzTxqD"
      },
      "execution_count": null,
      "outputs": []
    }
  ]
}