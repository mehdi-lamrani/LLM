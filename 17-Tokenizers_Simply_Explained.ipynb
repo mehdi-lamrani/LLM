{
  "nbformat": 4,
  "nbformat_minor": 0,
  "metadata": {
    "colab": {
      "provenance": [],
      "gpuType": "T4",
      "authorship_tag": "ABX9TyMoJ0QxisMKG0b3949nSKC2",
      "include_colab_link": true
    },
    "kernelspec": {
      "name": "python3",
      "display_name": "Python 3"
    },
    "language_info": {
      "name": "python"
    },
    "accelerator": "GPU"
  },
  "cells": [
    {
      "cell_type": "markdown",
      "metadata": {
        "id": "view-in-github",
        "colab_type": "text"
      },
      "source": [
        "<a href=\"https://colab.research.google.com/github/mehdi-lamrani/llm/blob/main/Tokenizers_Simply_Explained.ipynb\" target=\"_parent\"><img src=\"https://colab.research.google.com/assets/colab-badge.svg\" alt=\"Open In Colab\"/></a>"
      ]
    },
    {
      "cell_type": "code",
      "source": [
        "%%capture\n",
        "!pip install transformers"
      ],
      "metadata": {
        "id": "fMBIWTlV269P"
      },
      "execution_count": 1,
      "outputs": []
    },
    {
      "cell_type": "code",
      "execution_count": 10,
      "metadata": {
        "colab": {
          "base_uri": "https://localhost:8080/"
        },
        "id": "NwA0_Mex25M0",
        "outputId": "3e0a59b0-5276-42d3-93e3-043ac539923a"
      },
      "outputs": [
        {
          "output_type": "stream",
          "name": "stdout",
          "text": [
            "Original:\n",
            "Hello world \n",
            "\n",
            "\n",
            "Tokenized:\n",
            "input_ids: [101, 7592, 2088, 102]\n",
            "token_type_ids: [0, 0, 0, 0]\n",
            "attention_mask: [1, 1, 1, 1]\n"
          ]
        }
      ],
      "source": [
        "from transformers import AutoTokenizer\n",
        "\n",
        "# Initialize the tokenizer\n",
        "tokenizer = AutoTokenizer.from_pretrained(\"bert-base-uncased\")\n",
        "\n",
        "# Example input text\n",
        "text = \"Hello world \\n\"\n",
        "\n",
        "# Tokenize the text\n",
        "encoded_input = tokenizer(text)\n",
        "\n",
        "# Print the original text and its tokenized form\n",
        "print(\"Original:\")\n",
        "print(text)\n",
        "\n",
        "print(\"\\nTokenized:\")\n",
        "for key, value in encoded_input.items():\n",
        "    print(f\"{key}: {value}\")"
      ]
    },
    {
      "cell_type": "code",
      "source": [
        "# Decode each token ID back to the corresponding token\n",
        "tokens = [tokenizer.decode([token_id]) for token_id in encoded_input[\"input_ids\"]]\n",
        "\n",
        "# Print each token with its corresponding part of the text\n",
        "for token, token_id in zip(tokens, encoded_input[\"input_ids\"]):\n",
        "    print(f\"Token ID: {token_id} \\t Token: {token}\")\n"
      ],
      "metadata": {
        "colab": {
          "base_uri": "https://localhost:8080/"
        },
        "id": "MECFUJuW7Apv",
        "outputId": "2dfa7caf-d7a6-4cf4-f37f-c06dfe97f1ff"
      },
      "execution_count": 11,
      "outputs": [
        {
          "output_type": "stream",
          "name": "stdout",
          "text": [
            "Token ID: 101 \t Token: [CLS]\n",
            "Token ID: 7592 \t Token: hello\n",
            "Token ID: 2088 \t Token: world\n",
            "Token ID: 102 \t Token: [SEP]\n"
          ]
        }
      ]
    }
  ]
}